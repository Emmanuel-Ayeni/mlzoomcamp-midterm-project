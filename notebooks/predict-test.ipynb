{
 "cells": [
  {
   "cell_type": "code",
   "execution_count": 1,
   "id": "493eda62-79e1-4b36-9fad-d420e0ceb8e3",
   "metadata": {},
   "outputs": [
    {
     "data": {
      "application/javascript": [
       "IPython.notebook.set_autosave_interval(0)"
      ]
     },
     "metadata": {},
     "output_type": "display_data"
    },
    {
     "name": "stdout",
     "output_type": "stream",
     "text": [
      "Autosave disabled\n"
     ]
    }
   ],
   "source": [
    "%autosave 0"
   ]
  },
  {
   "cell_type": "code",
   "execution_count": 74,
   "id": "6ebf9b29-6884-4d29-a440-43dab72d3285",
   "metadata": {},
   "outputs": [],
   "source": [
    "import requests"
   ]
  },
  {
   "cell_type": "code",
   "execution_count": 78,
   "id": "1be004fa-a560-461c-bba9-cf2b100c74fd",
   "metadata": {},
   "outputs": [],
   "source": [
    "url = 'http://localhost:9696/predict'"
   ]
  },
  {
   "cell_type": "code",
   "execution_count": 79,
   "id": "9046992b-828f-4da5-8a7e-2b5e69f3430d",
   "metadata": {},
   "outputs": [],
   "source": [
    "employee = [{\"businesstravel\": \"travel_rarely\",\n",
    " \"department\": \"sales\",\n",
    " \"educationfield\": \"life_sciences\",\n",
    " \"gender\": \"female\",\n",
    " \"jobrole\": \"sales_executive\",\n",
    " \"maritalstatus\": \"single\",\n",
    " \"over18\": \"y\",\n",
    " \"overtime\": \"no\",\n",
    " \"age\": 30,\n",
    " \"dailyrate\": 374,\n",
    " \"distancefromhome\": 20,\n",
    " \"education\": 3,\n",
    " \"employeecount\": 1,\n",
    " \"employeenumber\": 2046,\n",
    " \"environmentsatisfaction\": 4,\n",
    " \"hourlyrate\": 50,\n",
    " \"jobinvolvement\": 3,\n",
    " \"joblevel\": 2,\n",
    " \"jobsatisfaction\": 3,\n",
    " \"monthlyincome\": 1050,\n",
    " \"monthlyrate\": 23333,\n",
    " \"numcompaniesworked\": 8,\n",
    " \"percentsalaryhike\": 15,\n",
    " \"performancerating\": 3,\n",
    " \"relationshipsatisfaction\": 3,\n",
    " \"standardhours\": 80,\n",
    " \"stockoptionlevel\": 0,\n",
    " \"totalworkingyears\": 8,\n",
    " \"trainingtimeslastyear\": 3,\n",
    " \"worklifebalance\": 3,\n",
    " \"yearsatcompany\": 5,\n",
    " \"yearsincurrentrole\": 3,\n",
    " \"yearssincelastpromotion\": 0,\n",
    " \"yearswithcurrmanager\": 1\n",
    "}]"
   ]
  },
  {
   "cell_type": "code",
   "execution_count": 80,
   "id": "4fca7fe0-05fd-42b4-b4ce-aaa3f45c99b8",
   "metadata": {},
   "outputs": [
    {
     "data": {
      "text/plain": [
       "<Response [500]>"
      ]
     },
     "execution_count": 80,
     "metadata": {},
     "output_type": "execute_result"
    }
   ],
   "source": [
    "requests.post(url, json=employee)"
   ]
  },
  {
   "cell_type": "code",
   "execution_count": null,
   "id": "c32740f4-f1f6-4183-81e2-e99d07ce8d56",
   "metadata": {},
   "outputs": [],
   "source": []
  },
  {
   "cell_type": "code",
   "execution_count": null,
   "id": "9292a6bb-4313-4010-a33a-475ea1580b58",
   "metadata": {},
   "outputs": [],
   "source": []
  }
 ],
 "metadata": {
  "kernelspec": {
   "display_name": "Python 3 (ipykernel)",
   "language": "python",
   "name": "python3"
  },
  "language_info": {
   "codemirror_mode": {
    "name": "ipython",
    "version": 3
   },
   "file_extension": ".py",
   "mimetype": "text/x-python",
   "name": "python",
   "nbconvert_exporter": "python",
   "pygments_lexer": "ipython3",
   "version": "3.11.7"
  }
 },
 "nbformat": 4,
 "nbformat_minor": 5
}
