{
 "cells": [
  {
   "cell_type": "code",
   "execution_count": 1,
   "id": "25ccfd3e",
   "metadata": {},
   "outputs": [],
   "source": [
    "import os\n",
    "from kaggle.api.kaggle_api_extended import KaggleApi\n",
    "\n",
    "\n",
    "import kaggle\n",
    "import numpy as np\n",
    "import pandas as pd\n",
    "\n",
    "import seaborn as sns\n",
    "import matplotlib.pyplot as plt\n",
    "\n",
    "from sklearn.tree import export_text\n",
    "from sklearn.feature_extraction import DictVectorizer \n",
    "from sklearn.model_selection import train_test_split, KFold\n",
    "from sklearn.tree import DecisionTreeClassifier\n",
    "from sklearn.ensemble import RandomForestClassifier\n",
    "import xgboost as xgb\n",
    "from sklearn.metrics import roc_auc_score\n",
    "\n",
    "import pickle\n",
    "\n",
    "\n",
    "# Set random seed\n",
    "SEED = 42\n"
   ]
  },
  {
   "cell_type": "code",
   "execution_count": 2,
   "id": "da5f9a03",
   "metadata": {
    "scrolled": true
   },
   "outputs": [
    {
     "name": "stdout",
     "output_type": "stream",
     "text": [
      "Dataset URL: https://www.kaggle.com/datasets/itssuru/HR-Employee-Attrition\n",
      "Dataset downloaded and extracted to C:\\Users\\Acer\\Documents\\workspace\\ml-zoomcamp\\mlzoomcamp-midterm-project\\notebooks\\data\n"
     ]
    }
   ],
   "source": [
    "\n",
    "# Initialize Kaggle API\n",
    "api = KaggleApi()\n",
    "api.authenticate()\n",
    "\n",
    "# Define project directory and data path\n",
    "project_dir = os.path.join(os.getcwd(), \"data\")\n",
    "os.makedirs(project_dir, exist_ok=True)\n",
    "\n",
    "# Kaggle dataset identifier (update with correct dataset ID)\n",
    "dataset_name = \"itssuru/HR-Employee-Attrition\"\n",
    "\n",
    "# Download dataset to the project data directory\n",
    "api.dataset_download_files(dataset_name, path=project_dir, unzip=True)\n",
    "\n",
    "print(f\"Dataset downloaded and extracted to {project_dir}\")\n"
   ]
  },
  {
   "cell_type": "code",
   "execution_count": 3,
   "id": "ec30a8f1-45d1-4d40-9b51-9cf365a749d4",
   "metadata": {},
   "outputs": [
    {
     "name": "stdout",
     "output_type": "stream",
     "text": [
      "Dataset downloaded and extracted to C:\\Users\\Acer\\Documents\\workspace\\ml-zoomcamp\\mlzoomcamp-midterm-project\\notebooks\\data\n",
      "   Age Attrition     BusinessTravel  DailyRate              Department  \\\n",
      "0   41       Yes      Travel_Rarely       1102                   Sales   \n",
      "1   49        No  Travel_Frequently        279  Research & Development   \n",
      "2   37       Yes      Travel_Rarely       1373  Research & Development   \n",
      "3   33        No  Travel_Frequently       1392  Research & Development   \n",
      "4   27        No      Travel_Rarely        591  Research & Development   \n",
      "\n",
      "   DistanceFromHome  Education EducationField  EmployeeCount  EmployeeNumber  \\\n",
      "0                 1          2  Life Sciences              1               1   \n",
      "1                 8          1  Life Sciences              1               2   \n",
      "2                 2          2          Other              1               4   \n",
      "3                 3          4  Life Sciences              1               5   \n",
      "4                 2          1        Medical              1               7   \n",
      "\n",
      "   ...  RelationshipSatisfaction StandardHours  StockOptionLevel  \\\n",
      "0  ...                         1            80                 0   \n",
      "1  ...                         4            80                 1   \n",
      "2  ...                         2            80                 0   \n",
      "3  ...                         3            80                 0   \n",
      "4  ...                         4            80                 1   \n",
      "\n",
      "   TotalWorkingYears  TrainingTimesLastYear WorkLifeBalance  YearsAtCompany  \\\n",
      "0                  8                      0               1               6   \n",
      "1                 10                      3               3              10   \n",
      "2                  7                      3               3               0   \n",
      "3                  8                      3               3               8   \n",
      "4                  6                      3               3               2   \n",
      "\n",
      "  YearsInCurrentRole  YearsSinceLastPromotion  YearsWithCurrManager  \n",
      "0                  4                        0                     5  \n",
      "1                  7                        1                     7  \n",
      "2                  0                        0                     0  \n",
      "3                  7                        3                     0  \n",
      "4                  2                        2                     2  \n",
      "\n",
      "[5 rows x 35 columns]\n"
     ]
    }
   ],
   "source": [
    "# Path to the project directory\n",
    "project_dir = r\"C:\\Users\\Acer\\Documents\\workspace\\ml-zoomcamp\\mlzoomcamp-midterm-project\\notebooks\\data\"\n",
    "print(f\"Dataset downloaded and extracted to {project_dir}\")\n",
    "\n",
    "# Replace 'your_file_name.csv' with the actual filename from the dataset\n",
    "csv_file_name = \"HR-Employee-Attrition.csv\"  # Correct this if the file has a different name\n",
    "csv_file_path = os.path.join(project_dir, csv_file_name)\n",
    "\n",
    "# Check if the file exists\n",
    "if not os.path.exists(csv_file_path):\n",
    "    print(f\"File not found: {csv_file_path}\")\n",
    "else:\n",
    "    # Assigning a handle `hr` to read the CSV file\n",
    "    df = pd.read_csv(csv_file_path)\n",
    "\n",
    "    # Displaying the first few rows of the DataFrame to verify\n",
    "    print(df.head())"
   ]
  },
  {
   "cell_type": "code",
   "execution_count": 4,
   "id": "08269731",
   "metadata": {},
   "outputs": [],
   "source": [
    "df.columns = df.columns.str.lower().str.replace(' ', '_')\n",
    "\n",
    "categorical_columns = list(df.dtypes[df.dtypes == 'object'].index)\n",
    "\n",
    "for c in categorical_columns:\n",
    "    df[c] = df[c].str.lower().str.replace(' ', '_')"
   ]
  },
  {
   "cell_type": "code",
   "execution_count": 5,
   "id": "24e7334c",
   "metadata": {},
   "outputs": [],
   "source": [
    "# Drop all constant attributes (1 from the result about) that will not make a difference to our model description\n",
    "df.drop(['employeecount', 'over18','standardhours' ],axis=1,inplace=True)\n"
   ]
  },
  {
   "cell_type": "code",
   "execution_count": 6,
   "id": "24f43b3b",
   "metadata": {},
   "outputs": [],
   "source": [
    "df_full_train, df_test = train_test_split(df, test_size=0.2, random_state=SEED)\n",
    "df_train, df_val = train_test_split(df_full_train, test_size=0.25, random_state=SEED)"
   ]
  },
  {
   "cell_type": "code",
   "execution_count": 7,
   "id": "7f7212ee-8491-46c8-9003-aecde5a98c98",
   "metadata": {},
   "outputs": [],
   "source": [
    "# Create the target variables \n",
    "y_train = (df_full_train.attrition == 'yes').values\n",
    "y_test = (df_test.attrition == 'yes').values"
   ]
  },
  {
   "cell_type": "code",
   "execution_count": 8,
   "id": "5d4a5aad-e880-4385-9dfc-90a0a1b90b56",
   "metadata": {},
   "outputs": [],
   "source": [
    "del df_full_train['attrition']\n",
    "del df_test['attrition']"
   ]
  },
  {
   "cell_type": "code",
   "execution_count": 9,
   "id": "befb849b-b233-4971-83dc-d24302a27bd9",
   "metadata": {},
   "outputs": [],
   "source": [
    "# Convert the Dataframes into lists of Dictionaries, then OHE to derive the feature matrices\n",
    "dict_train = df_full_train.fillna(0).to_dict(orient='records')\n",
    "dict_test = df_test.fillna(0).to_dict(orient='records')"
   ]
  },
  {
   "cell_type": "code",
   "execution_count": 10,
   "id": "27a315aa-bc46-42e2-8a0d-ed1aac3d1617",
   "metadata": {},
   "outputs": [],
   "source": [
    "dv = DictVectorizer(sparse=False)\n",
    "X_train = dv.fit_transform(dict_train)\n",
    "X_test = dv.transform(dict_test)"
   ]
  },
  {
   "cell_type": "code",
   "execution_count": 11,
   "id": "f21c3e9f-4490-4eca-99f4-0eab0e557783",
   "metadata": {},
   "outputs": [],
   "source": [
    "# Train the XGBoost Model with the optimal parameters\n",
    "dtrain = xgb.DMatrix(X_train, label=y_train, feature_names=dv.feature_names_)\n",
    "dtest = xgb.DMatrix(X_test, label=y_test, feature_names=dv.feature_names_)"
   ]
  },
  {
   "cell_type": "code",
   "execution_count": 12,
   "id": "fb6ab126-23e6-4485-8e2d-6b64477a39ad",
   "metadata": {},
   "outputs": [],
   "source": [
    "xgb_params = {\n",
    "    'eta': 0.3, \n",
    "    'max_depth': 6,\n",
    "    'min_child_weight': 1,\n",
    "\n",
    "    'objective': 'binary:logistic',\n",
    "    'nthread': 8,\n",
    "\n",
    "    'seed': 1,\n",
    "    'verbosity': 1,\n",
    "}\n"
   ]
  },
  {
   "cell_type": "code",
   "execution_count": 13,
   "id": "c9d2ab1f-2ad6-4b72-95db-a4d35c7cdd24",
   "metadata": {},
   "outputs": [],
   "source": [
    "num_trees = 100"
   ]
  },
  {
   "cell_type": "code",
   "execution_count": 14,
   "id": "87570446-9f91-4fa5-a6cd-9792bff4c1b9",
   "metadata": {},
   "outputs": [],
   "source": [
    "model = xgb.train(xgb_params, dtrain, num_boost_round=num_trees)"
   ]
  },
  {
   "cell_type": "code",
   "execution_count": 15,
   "id": "30205b08-76e7-4db0-8642-29bf7f48d846",
   "metadata": {},
   "outputs": [
    {
     "data": {
      "text/plain": [
       "np.float64(0.7860231271995978)"
      ]
     },
     "execution_count": 15,
     "metadata": {},
     "output_type": "execute_result"
    }
   ],
   "source": [
    "y_pred_xgb = model.predict(dtest)\n",
    "roc_auc_score(y_test, y_pred_xgb)"
   ]
  },
  {
   "cell_type": "code",
   "execution_count": 16,
   "id": "ffc1acb6-e815-41e1-861c-ebf2e4737374",
   "metadata": {},
   "outputs": [],
   "source": [
    "# Parameter constants\n",
    "C= 1.0\n",
    "n_splits = 5"
   ]
  },
  {
   "cell_type": "code",
   "execution_count": 17,
   "id": "ad203b73-1109-48f5-adaa-99708a7e082e",
   "metadata": {},
   "outputs": [],
   "source": [
    "# Train function\n",
    "def train(df_train, y_train, C=C):\n",
    "    dicts = df_train[cat_cols + num_cols].to_dict(orient='records')\n",
    "\n",
    "    dv = DictVectorizer(sparce=False)\n",
    "    X_train = dv.fit_transform(dicts)\n",
    "\n",
    "    model = xgb.train(xgb_params, dtrain, num_boost_round=10)\n",
    "    return dv, model"
   ]
  },
  {
   "cell_type": "code",
   "execution_count": 18,
   "id": "d569f391-564e-46c3-97ff-3c2a0d6b0b5e",
   "metadata": {},
   "outputs": [],
   "source": [
    "# Predict function\n",
    "\n",
    "def predict(df, dv, model):\n",
    "    dicts = df[cat_cols + num_cols].to_dict(orient='records')\n",
    "    \n",
    "    dtest = dv.transform(dicts)\n",
    "    y_pred = model.predict(dtest,validate_features=False)\n",
    "    return y_pred"
   ]
  },
  {
   "cell_type": "code",
   "execution_count": 19,
   "id": "2f10c816-ce50-4081-b814-865faf73af12",
   "metadata": {},
   "outputs": [
    {
     "data": {
      "text/plain": [
       "'model_C=1.0.bin'"
      ]
     },
     "execution_count": 19,
     "metadata": {},
     "output_type": "execute_result"
    }
   ],
   "source": [
    "output_file = f'model_C={C}.bin'\n",
    "output_file"
   ]
  },
  {
   "cell_type": "code",
   "execution_count": 20,
   "id": "ca5554c6",
   "metadata": {},
   "outputs": [],
   "source": [
    "with open(output_file, 'wb') as f_out:\n",
    "    pickle.dump((dv, model), f_out)\n",
    "\n"
   ]
  },
  {
   "cell_type": "markdown",
   "id": "ea10aa55-8784-43ef-a36b-591bec075c82",
   "metadata": {},
   "source": [
    "#### Testing the downloaded Model\n",
    "##### Load the model\n",
    "* Restart the kernel: Menu -> Kernel -> Restart Kernel"
   ]
  },
  {
   "cell_type": "code",
   "execution_count": 1,
   "id": "1d765988",
   "metadata": {},
   "outputs": [],
   "source": [
    "import pickle\n",
    "import xgboost as xgb\n",
    "from xgboost import XGBClassifier"
   ]
  },
  {
   "cell_type": "code",
   "execution_count": 2,
   "id": "713d5065-7bd5-4c09-8116-4c15d4849177",
   "metadata": {
    "scrolled": true
   },
   "outputs": [
    {
     "data": {
      "text/plain": [
       "'model_C=1.0.bin'"
      ]
     },
     "execution_count": 2,
     "metadata": {},
     "output_type": "execute_result"
    }
   ],
   "source": [
    "output_file = 'model_C=1.0.bin'\n",
    " \n",
    "output_file"
   ]
  },
  {
   "cell_type": "code",
   "execution_count": 3,
   "id": "b1776d96-43a7-4e88-94a6-8fcb312b5257",
   "metadata": {},
   "outputs": [],
   "source": [
    "with open(output_file, 'rb') as f_in:\n",
    "    (dv, model) = pickle.load(f_in)\n",
    "\n"
   ]
  },
  {
   "cell_type": "code",
   "execution_count": 4,
   "id": "62ca4f52-7420-4bdb-a56a-f6885e438ae6",
   "metadata": {},
   "outputs": [],
   "source": [
    "employee = {'businesstravel': 'travel_rarely',\n",
    " 'department': 'sales',\n",
    " 'educationfield': 'life_sciences',\n",
    " 'gender': 'female',\n",
    " 'jobrole': 'sales_executive',\n",
    " 'maritalstatus': 'single',\n",
    " 'over18': 'y',\n",
    " 'overtime': 'no',\n",
    " 'age': 30,\n",
    " 'dailyrate': 374,\n",
    " 'distancefromhome': 20,\n",
    " 'education': 3,\n",
    " 'employeecount': 1,\n",
    " 'employeenumber': 2046,\n",
    " 'environmentsatisfaction': 4,\n",
    " 'hourlyrate': 50,\n",
    " 'jobinvolvement': 3,\n",
    " 'joblevel': 2,\n",
    " 'jobsatisfaction': 3,\n",
    " 'monthlyincome': 1050,\n",
    " 'monthlyrate': 23333,\n",
    " 'numcompaniesworked': 8,\n",
    " 'percentsalaryhike': 15,\n",
    " 'performancerating': 3,\n",
    " 'relationshipsatisfaction': 3,\n",
    " 'standardhours': 80,\n",
    " 'stockoptionlevel': 0,\n",
    " 'totalworkingyears': 8,\n",
    " 'trainingtimeslastyear': 3,\n",
    " 'worklifebalance': 3,\n",
    " 'yearsatcompany': 5,\n",
    " 'yearsincurrentrole': 3,\n",
    " 'yearssincelastpromotion': 0,\n",
    " 'yearswithcurrmanager': 1,\n",
    "}"
   ]
  },
  {
   "cell_type": "code",
   "execution_count": 5,
   "id": "cad6a956-7b34-4916-9d6e-58344123d906",
   "metadata": {},
   "outputs": [],
   "source": [
    "X = dv.transform([employee])"
   ]
  },
  {
   "cell_type": "code",
   "execution_count": 6,
   "id": "f9696bf2-b621-4973-be19-2387d58866dd",
   "metadata": {},
   "outputs": [],
   "source": [
    "dX = xgb.DMatrix(X, feature_names=dv.feature_names_)"
   ]
  },
  {
   "cell_type": "code",
   "execution_count": 7,
   "id": "ec146cb1-edc0-4e54-9f97-a9080b320c11",
   "metadata": {},
   "outputs": [],
   "source": [
    "# y_pred_xgb = model.predict(dX)\n",
    "# y_pred_xgb "
   ]
  },
  {
   "cell_type": "code",
   "execution_count": 8,
   "id": "517fd8c5-8107-4598-9ae5-7d44b357f33b",
   "metadata": {},
   "outputs": [
    {
     "name": "stdout",
     "output_type": "stream",
     "text": [
      "prediction: 0.470\n",
      "Verdict: Attrition Not Likely\n"
     ]
    }
   ],
   "source": [
    "prediction = model.predict(dX)\n",
    "print('prediction: %.3f' % prediction.item())\n",
    "\n",
    "if prediction >= 0.5:\n",
    "    print('Verdict: Attrition' )\n",
    "else:\n",
    "    print('Verdict: Attrition Not Likely')\n"
   ]
  },
  {
   "cell_type": "code",
   "execution_count": null,
   "id": "9c982ea0-8774-46e0-a6db-ffa83e55623b",
   "metadata": {},
   "outputs": [],
   "source": []
  }
 ],
 "metadata": {
  "kernelspec": {
   "display_name": "Python 3 (ipykernel)",
   "language": "python",
   "name": "python3"
  },
  "language_info": {
   "codemirror_mode": {
    "name": "ipython",
    "version": 3
   },
   "file_extension": ".py",
   "mimetype": "text/x-python",
   "name": "python",
   "nbconvert_exporter": "python",
   "pygments_lexer": "ipython3",
   "version": "3.11.7"
  }
 },
 "nbformat": 4,
 "nbformat_minor": 5
}
