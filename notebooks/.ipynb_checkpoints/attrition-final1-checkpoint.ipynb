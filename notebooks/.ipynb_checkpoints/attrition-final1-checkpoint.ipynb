{
 "cells": [
  {
   "cell_type": "code",
   "execution_count": 1,
   "id": "25ccfd3e",
   "metadata": {},
   "outputs": [],
   "source": [
    "import os\n",
    "from kaggle.api.kaggle_api_extended import KaggleApi\n",
    "\n",
    "\n",
    "import kaggle\n",
    "import numpy as np\n",
    "import pandas as pd\n",
    "\n",
    "import seaborn as sns\n",
    "import matplotlib.pyplot as plt\n",
    "\n",
    "from sklearn.tree import export_text\n",
    "from sklearn.feature_extraction import DictVectorizer \n",
    "from sklearn.model_selection import train_test_split, KFold\n",
    "from sklearn.tree import DecisionTreeClassifier\n",
    "from sklearn.ensemble import RandomForestClassifier\n",
    "import xgboost as xgb\n",
    "from sklearn.metrics import roc_auc_score\n",
    "\n",
    "import pickle\n",
    "\n",
    "\n",
    "# Set random seed\n",
    "SEED = 42\n"
   ]
  },
  {
   "cell_type": "code",
   "execution_count": 2,
   "id": "da5f9a03",
   "metadata": {
    "scrolled": true
   },
   "outputs": [
    {
     "name": "stdout",
     "output_type": "stream",
     "text": [
      "Dataset URL: https://www.kaggle.com/datasets/itssuru/HR-Employee-Attrition\n",
      "Dataset downloaded and extracted to C:\\Users\\Acer\\Documents\\workspace\\ml-zoomcamp\\mlzoomcamp-midterm-project\\notebooks\\data\n"
     ]
    }
   ],
   "source": [
    "\n",
    "# Initialize Kaggle API\n",
    "api = KaggleApi()\n",
    "api.authenticate()\n",
    "\n",
    "# Define project directory and data path\n",
    "project_dir = os.path.join(os.getcwd(), \"data\")\n",
    "os.makedirs(project_dir, exist_ok=True)\n",
    "\n",
    "# Kaggle dataset identifier (update with correct dataset ID)\n",
    "dataset_name = \"itssuru/HR-Employee-Attrition\"\n",
    "\n",
    "# Download dataset to the project data directory\n",
    "api.dataset_download_files(dataset_name, path=project_dir, unzip=True)\n",
    "\n",
    "print(f\"Dataset downloaded and extracted to {project_dir}\")\n"
   ]
  },
  {
   "cell_type": "code",
   "execution_count": 3,
   "id": "ec30a8f1-45d1-4d40-9b51-9cf365a749d4",
   "metadata": {},
   "outputs": [
    {
     "name": "stdout",
     "output_type": "stream",
     "text": [
      "Dataset downloaded and extracted to C:\\Users\\Acer\\Documents\\workspace\\ml-zoomcamp\\mlzoomcamp-midterm-project\\notebooks\\data\n",
      "   Age Attrition     BusinessTravel  DailyRate              Department  \\\n",
      "0   41       Yes      Travel_Rarely       1102                   Sales   \n",
      "1   49        No  Travel_Frequently        279  Research & Development   \n",
      "2   37       Yes      Travel_Rarely       1373  Research & Development   \n",
      "3   33        No  Travel_Frequently       1392  Research & Development   \n",
      "4   27        No      Travel_Rarely        591  Research & Development   \n",
      "\n",
      "   DistanceFromHome  Education EducationField  EmployeeCount  EmployeeNumber  \\\n",
      "0                 1          2  Life Sciences              1               1   \n",
      "1                 8          1  Life Sciences              1               2   \n",
      "2                 2          2          Other              1               4   \n",
      "3                 3          4  Life Sciences              1               5   \n",
      "4                 2          1        Medical              1               7   \n",
      "\n",
      "   ...  RelationshipSatisfaction StandardHours  StockOptionLevel  \\\n",
      "0  ...                         1            80                 0   \n",
      "1  ...                         4            80                 1   \n",
      "2  ...                         2            80                 0   \n",
      "3  ...                         3            80                 0   \n",
      "4  ...                         4            80                 1   \n",
      "\n",
      "   TotalWorkingYears  TrainingTimesLastYear WorkLifeBalance  YearsAtCompany  \\\n",
      "0                  8                      0               1               6   \n",
      "1                 10                      3               3              10   \n",
      "2                  7                      3               3               0   \n",
      "3                  8                      3               3               8   \n",
      "4                  6                      3               3               2   \n",
      "\n",
      "  YearsInCurrentRole  YearsSinceLastPromotion  YearsWithCurrManager  \n",
      "0                  4                        0                     5  \n",
      "1                  7                        1                     7  \n",
      "2                  0                        0                     0  \n",
      "3                  7                        3                     0  \n",
      "4                  2                        2                     2  \n",
      "\n",
      "[5 rows x 35 columns]\n"
     ]
    }
   ],
   "source": [
    "# Path to the project directory\n",
    "project_dir = r\"C:\\Users\\Acer\\Documents\\workspace\\ml-zoomcamp\\mlzoomcamp-midterm-project\\notebooks\\data\"\n",
    "print(f\"Dataset downloaded and extracted to {project_dir}\")\n",
    "\n",
    "# Replace 'your_file_name.csv' with the actual filename from the dataset\n",
    "csv_file_name = \"HR-Employee-Attrition.csv\"  # Correct this if the file has a different name\n",
    "csv_file_path = os.path.join(project_dir, csv_file_name)\n",
    "\n",
    "# Check if the file exists\n",
    "if not os.path.exists(csv_file_path):\n",
    "    print(f\"File not found: {csv_file_path}\")\n",
    "else:\n",
    "    # Assigning a handle `hr` to read the CSV file\n",
    "    df = pd.read_csv(csv_file_path)\n",
    "\n",
    "    # Displaying the first few rows of the DataFrame to verify\n",
    "    print(df.head())"
   ]
  },
  {
   "cell_type": "code",
   "execution_count": 4,
   "id": "08269731",
   "metadata": {},
   "outputs": [],
   "source": [
    "df.columns = df.columns.str.lower().str.replace(' ', '_')\n",
    "\n",
    "categorical_columns = list(df.dtypes[df.dtypes == 'object'].index)\n",
    "\n",
    "for c in categorical_columns:\n",
    "    df[c] = df[c].str.lower().str.replace(' ', '_')"
   ]
  },
  {
   "cell_type": "code",
   "execution_count": 5,
   "id": "7f7212ee-8491-46c8-9003-aecde5a98c98",
   "metadata": {},
   "outputs": [],
   "source": [
    "df.attrition = (df.attrition == 'yes').astype(int)"
   ]
  },
  {
   "cell_type": "code",
   "execution_count": 6,
   "id": "24e7334c",
   "metadata": {},
   "outputs": [],
   "source": [
    "# Drop all constant attributes (1 from the result about) that will not make a difference to our model description\n",
    "df.drop(['employeecount', 'over18','standardhours' ],axis=1,inplace=True)\n"
   ]
  },
  {
   "cell_type": "code",
   "execution_count": 7,
   "id": "5a02c1c4-0ab8-4c20-9ccc-dc0c0c9404f5",
   "metadata": {},
   "outputs": [],
   "source": [
    "# Identify categorical and numerical columns\n",
    "cat_cols = df.select_dtypes(include=['object']).columns.tolist()\n",
    "num_cols = df.select_dtypes(include=['number']).columns.tolist()\n",
    "num_cols.remove('attrition')  # Remove target variable from numeric columns"
   ]
  },
  {
   "cell_type": "code",
   "execution_count": 8,
   "id": "24f43b3b",
   "metadata": {},
   "outputs": [],
   "source": [
    "df_full_train, df_test = train_test_split(df, test_size=0.2, random_state=SEED)\n",
    "df_train, df_val = train_test_split(df_full_train, test_size=0.25, random_state=SEED)"
   ]
  },
  {
   "cell_type": "code",
   "execution_count": 9,
   "id": "0e599f28",
   "metadata": {},
   "outputs": [],
   "source": [
    " df_train = df_train.reset_index(drop=True)\n",
    "df_val = df_val.reset_index(drop=True)\n",
    "df_test = df_test.reset_index(drop=True)"
   ]
  },
  {
   "cell_type": "code",
   "execution_count": 10,
   "id": "8efa7eac",
   "metadata": {},
   "outputs": [],
   "source": [
    "y_train = df_train.attrition.values\n",
    "y_val = df_val.attrition.values\n",
    "y_test = df_test.attrition.values\n",
    "y_full_train =df_full_train.attrition.values"
   ]
  },
  {
   "cell_type": "code",
   "execution_count": 11,
   "id": "96a9910a",
   "metadata": {},
   "outputs": [],
   "source": [
    "del df_train['attrition']\n",
    "del df_val['attrition']\n",
    "del df_test['attrition']"
   ]
  },
  {
   "cell_type": "code",
   "execution_count": 12,
   "id": "4fc3432c-3390-4d12-bab3-0b9cf5cf3435",
   "metadata": {},
   "outputs": [],
   "source": [
    "dict_train = df_train.to_dict(orient='records')\n",
    "dict_val = df_val.to_dict(orient='records')"
   ]
  },
  {
   "cell_type": "code",
   "execution_count": 13,
   "id": "4275a9dc-d84d-4850-9ff8-ae0a212b1a35",
   "metadata": {},
   "outputs": [],
   "source": [
    "dv = DictVectorizer(sparse=False)\n",
    "\n",
    "X_train = dv.fit_transform(dict_train)\n",
    "X_val = dv.fit_transform(dict_val)"
   ]
  },
  {
   "cell_type": "code",
   "execution_count": 14,
   "id": "b0b472d8-231b-4984-9263-ff9401273487",
   "metadata": {},
   "outputs": [],
   "source": [
    "feature_names = dv.feature_names_"
   ]
  },
  {
   "cell_type": "code",
   "execution_count": 15,
   "id": "9dceffc5-cc92-42fd-a62b-dc0a2d5050da",
   "metadata": {},
   "outputs": [],
   "source": [
    "dtrain = xgb.DMatrix(X_train, label=y_train, feature_names=dv.feature_names_)"
   ]
  },
  {
   "cell_type": "code",
   "execution_count": 16,
   "id": "95dd1a3c-a642-4a12-b20c-0e308bfa90af",
   "metadata": {},
   "outputs": [],
   "source": [
    "dval = xgb.DMatrix(X_val, label=y_val, feature_names=dv.feature_names_)"
   ]
  },
  {
   "cell_type": "code",
   "execution_count": 17,
   "id": "6d2951a7-47c2-4d86-8c0f-953489979a53",
   "metadata": {},
   "outputs": [],
   "source": [
    "xgb_params = {\n",
    "    'eta': 0.3, \n",
    "    'max_depth': 6,\n",
    "    'min_child_weight': 1,\n",
    "\n",
    "    'objective': 'binary:logistic',\n",
    "    'nthread': 8,\n",
    "\n",
    "    'seed': 1,\n",
    "    'verbosity': 1,\n",
    "}\n"
   ]
  },
  {
   "cell_type": "code",
   "execution_count": 18,
   "id": "923efa80-8ea3-45bb-89b8-83e683da9e85",
   "metadata": {},
   "outputs": [],
   "source": [
    "model = xgb.train(xgb_params, dtrain, num_boost_round=100)"
   ]
  },
  {
   "cell_type": "code",
   "execution_count": 19,
   "id": "0f92703c-eea2-40f2-97ae-3d3987279efb",
   "metadata": {},
   "outputs": [],
   "source": [
    "y_pred = model.predict(dval) # The risk score for each employee in the validation dataset"
   ]
  },
  {
   "cell_type": "code",
   "execution_count": 20,
   "id": "833687d9-3be3-41ca-ad4b-b7a965c615e3",
   "metadata": {},
   "outputs": [
    {
     "data": {
      "text/plain": [
       "array([1.51200016e-04, 1.54876010e-02, 2.62746006e-01, 5.74889928e-02,\n",
       "       8.85628257e-03, 7.27617741e-03, 6.59438372e-01, 5.61093271e-04,\n",
       "       8.59615393e-05, 3.83243430e-03, 5.04899165e-03, 1.74491579e-04,\n",
       "       1.76951420e-02, 5.30233234e-03, 8.90194904e-04, 5.21506695e-03,\n",
       "       5.23285149e-03, 1.57800727e-02, 3.31193302e-03, 4.55631502e-03,\n",
       "       1.19681835e-01, 9.75431561e-01, 2.43347534e-03, 4.41563316e-03,\n",
       "       7.11973943e-03, 7.05151469e-04, 2.77456373e-01, 1.08045423e-02,\n",
       "       6.27815537e-03, 4.01561614e-04, 6.64086686e-03, 5.03221788e-02,\n",
       "       2.08768062e-02, 7.88952748e-04, 1.77160382e-01, 2.60945852e-03,\n",
       "       6.55420299e-05, 5.11757156e-04, 1.45796742e-02, 2.20155343e-01,\n",
       "       2.93012918e-03, 3.52598913e-03, 9.55339707e-03, 1.19043544e-01,\n",
       "       1.15026012e-02, 6.78058714e-05, 1.88100651e-01, 4.87559289e-02,\n",
       "       4.38843650e-04, 3.86657077e-03, 8.88632476e-01, 5.74631896e-03,\n",
       "       7.79724896e-01, 5.40162297e-03, 9.01266560e-03, 1.89385295e-03,\n",
       "       1.67362556e-01, 9.73128364e-04, 1.56995118e-01, 4.64743702e-04,\n",
       "       5.77383459e-01, 4.45442769e-04, 3.10123175e-01, 7.59729147e-02,\n",
       "       8.98362137e-04, 1.11613225e-03, 8.24438989e-01, 9.89299178e-01,\n",
       "       3.56136978e-01, 5.92577504e-04, 5.89607982e-04, 5.40318154e-02,\n",
       "       1.21681497e-03, 1.00936380e-03, 1.18870975e-03, 3.29762995e-01,\n",
       "       4.45480575e-04, 5.78453951e-02, 2.09370395e-03, 5.49976190e-04,\n",
       "       9.48212924e-04, 7.58088052e-01, 5.41250082e-03, 9.53468144e-01,\n",
       "       3.91569547e-03, 9.51269567e-01, 3.91231239e-01, 4.06822711e-02,\n",
       "       2.43720133e-04, 3.60917561e-02, 1.88961494e-05, 2.91728484e-03,\n",
       "       1.04256666e-04, 1.59236062e-02, 1.33565511e-04, 1.11925672e-03,\n",
       "       1.08774774e-01, 9.54194129e-01, 1.65885699e-03, 5.14468504e-03,\n",
       "       2.00018343e-02, 3.35420184e-02, 3.50588374e-02, 1.48729794e-02,\n",
       "       3.37870121e-01, 9.45347361e-03, 3.10428883e-03, 3.99682391e-03,\n",
       "       1.16257044e-03, 3.36436145e-02, 2.73294926e-01, 1.14644389e-03,\n",
       "       4.87275328e-03, 2.70485616e-04, 2.04904914e-01, 1.06502548e-02,\n",
       "       2.07012296e-02, 1.49468496e-03, 7.02573685e-04, 5.59049239e-03,\n",
       "       1.12218468e-03, 6.11890107e-02, 1.79686889e-04, 4.68066543e-01,\n",
       "       5.20371657e-04, 7.75620062e-03, 1.17114498e-04, 2.61833332e-03,\n",
       "       4.52598184e-03, 1.07054375e-02, 7.57054985e-03, 2.73654629e-02,\n",
       "       5.77900512e-03, 5.84532274e-03, 4.35449541e-01, 5.41448547e-03,\n",
       "       9.67927556e-03, 5.35059161e-02, 9.23449546e-02, 8.99166241e-02,\n",
       "       4.29296028e-03, 3.75097901e-01, 1.67402299e-03, 3.47182713e-02,\n",
       "       9.76523757e-02, 1.72770664e-01, 6.53570751e-04, 2.40156338e-01,\n",
       "       2.21503829e-03, 1.22482302e-02, 1.61195889e-01, 3.25577222e-02,\n",
       "       8.11381415e-02, 1.40886242e-03, 8.95325840e-01, 2.73279590e-03,\n",
       "       4.48188595e-02, 2.10757535e-02, 1.75843202e-02, 1.00094581e-03,\n",
       "       1.64763063e-01, 1.00776255e-02, 1.17834499e-02, 1.62416662e-03,\n",
       "       4.90461707e-01, 1.00220356e-03, 1.72172440e-03, 3.80280428e-02,\n",
       "       5.99907420e-04, 7.81954557e-04, 6.33582830e-01, 2.65330821e-03,\n",
       "       2.56935135e-04, 2.33531408e-02, 3.02169006e-02, 7.87894096e-05,\n",
       "       3.29939425e-01, 1.24584511e-02, 9.36352555e-03, 1.16375939e-03,\n",
       "       7.99836998e-04, 3.92565940e-04, 2.77641714e-01, 5.99700306e-03,\n",
       "       4.45177071e-02, 4.54526037e-01, 1.56980380e-03, 6.27980605e-02,\n",
       "       3.21523898e-04, 8.62069603e-04, 9.73265767e-01, 9.75578249e-01,\n",
       "       5.15376916e-04, 5.42913331e-05, 5.67208603e-03, 8.50060955e-02,\n",
       "       2.79758215e-01, 9.59383976e-03, 3.08320130e-04, 1.86656544e-03,\n",
       "       7.37749797e-04, 5.91879827e-04, 6.44018203e-02, 2.34536260e-01,\n",
       "       1.04003206e-01, 1.74540840e-02, 1.75599866e-02, 2.46393960e-04,\n",
       "       7.29556754e-02, 3.37715223e-02, 7.88617413e-03, 4.48753566e-01,\n",
       "       4.24952246e-04, 3.29875760e-02, 9.91514549e-02, 1.54328253e-02,\n",
       "       1.26029417e-01, 9.84709024e-01, 2.47919350e-03, 1.93048362e-02,\n",
       "       6.95504785e-01, 1.59856647e-01, 1.55187277e-02, 7.80148851e-03,\n",
       "       1.61144827e-02, 1.19083039e-02, 2.22587143e-04, 2.92231962e-02,\n",
       "       7.27125168e-01, 1.45669957e-03, 1.17964810e-03, 7.92479336e-01,\n",
       "       1.04447501e-03, 9.71573126e-03, 1.69543514e-03, 5.26103133e-04,\n",
       "       4.62316582e-03, 5.91608649e-03, 1.26981793e-03, 6.52756095e-02,\n",
       "       1.96123898e-01, 6.41971501e-03, 3.49103659e-03, 9.00564156e-03,\n",
       "       2.56837785e-01, 3.05003370e-03, 5.52493036e-02, 5.77392476e-03,\n",
       "       3.59270759e-02, 1.78968403e-02, 2.93387752e-03, 5.32943814e-04,\n",
       "       9.01579671e-03, 9.26054642e-03, 9.03015665e-04, 1.82088837e-03,\n",
       "       1.05082220e-03, 2.45728329e-01, 1.37298368e-03, 6.51916629e-03,\n",
       "       4.45147883e-03, 3.61066405e-03, 5.00007824e-04, 3.09102744e-01,\n",
       "       4.59365726e-01, 1.68232585e-03, 1.14033045e-02, 4.70832238e-05,\n",
       "       3.16037738e-04, 7.65911583e-03, 6.25265017e-03, 2.01213490e-02,\n",
       "       6.52471036e-02, 3.91732715e-03, 8.92916322e-02, 1.55860819e-02,\n",
       "       5.83221717e-03, 7.83098303e-03, 3.94682467e-01, 1.23775341e-02,\n",
       "       1.75733101e-02, 6.99716574e-03, 1.11744683e-02, 1.27259130e-02,\n",
       "       3.44080571e-03, 4.15935963e-01, 1.08003791e-03, 3.90823185e-03,\n",
       "       9.92716523e-05, 1.75716311e-01, 2.16802545e-02, 6.18956745e-01,\n",
       "       1.29717751e-04, 7.22032913e-04], dtype=float32)"
      ]
     },
     "execution_count": 20,
     "metadata": {},
     "output_type": "execute_result"
    }
   ],
   "source": [
    "y_pred"
   ]
  },
  {
   "cell_type": "code",
   "execution_count": 21,
   "id": "71bd60f9-a73f-4c5f-9aa3-a75254ef4bc2",
   "metadata": {},
   "outputs": [
    {
     "data": {
      "text/plain": [
       "np.float64(0.8315573770491803)"
      ]
     },
     "execution_count": 21,
     "metadata": {},
     "output_type": "execute_result"
    }
   ],
   "source": [
    "roc_auc_score(y_val, y_pred)"
   ]
  },
  {
   "cell_type": "markdown",
   "id": "2a32ed9b-5cb9-49f7-b68b-cd0f6e90e4ef",
   "metadata": {},
   "source": [
    "#### Selecting the Best Model"
   ]
  },
  {
   "cell_type": "code",
   "execution_count": null,
   "id": "bb455beb-98b6-4e7c-9e23-73ef7a598822",
   "metadata": {},
   "outputs": [],
   "source": [
    "dt = DecisionTreeClassifier(max_depth=10, min_samples_leaf=15)\n",
    "dt.fit(X_train, y_train)"
   ]
  },
  {
   "cell_type": "code",
   "execution_count": null,
   "id": "4ded6c92-ae80-4d87-865d-8bf9d789fd5c",
   "metadata": {},
   "outputs": [],
   "source": [
    "y_pred = dt.predict_proba(X_val)[:, 1]\n",
    "roc_auc_score(y_val, y_pred)"
   ]
  },
  {
   "cell_type": "code",
   "execution_count": null,
   "id": "6e847852-db40-4150-9a2f-d12666258acb",
   "metadata": {},
   "outputs": [],
   "source": [
    "rf = RandomForestClassifier(n_estimators=200, \n",
    "                            max_depth=10,\n",
    "                            min_samples_leaf=3,\n",
    "                            random_state=42)\n",
    "rf.fit(X_train, y_train)"
   ]
  },
  {
   "cell_type": "code",
   "execution_count": null,
   "id": "8c711345-159d-4e4b-869c-e171a15a0d5e",
   "metadata": {},
   "outputs": [],
   "source": [
    "y_pred = rf.predict_proba(X_val)[:, 1]\n",
    "roc_auc_score(y_val, y_pred)"
   ]
  },
  {
   "cell_type": "code",
   "execution_count": null,
   "id": "16648111-e607-4d95-b26a-56628deb7666",
   "metadata": {},
   "outputs": [],
   "source": [
    "# XGBoost\n",
    "xgb_params = {\n",
    "    'eta': 0.3, \n",
    "    'max_depth': 6,\n",
    "    'min_child_weight': 1,\n",
    "\n",
    "    'objective': 'binary:logistic',\n",
    "    'nthread': 8,\n",
    "\n",
    "    'seed': 1,\n",
    "    'verbosity': 1,\n",
    "}\n",
    "\n",
    "model = xgb.train(xgb_params, dtrain, num_boost_round=100)"
   ]
  },
  {
   "cell_type": "code",
   "execution_count": null,
   "id": "42bb03d2-2aa3-4c3c-95bb-8971d25e7f19",
   "metadata": {},
   "outputs": [],
   "source": [
    "y_pred = model.predict(dval)\n",
    "roc_auc_score(y_val, y_pred)"
   ]
  },
  {
   "cell_type": "code",
   "execution_count": null,
   "id": "1ff0bb22-fb2e-44f2-a7ad-37e2ec32ab80",
   "metadata": {},
   "outputs": [],
   "source": [
    "df_full_train"
   ]
  },
  {
   "cell_type": "code",
   "execution_count": null,
   "id": "bdb38d89-eb92-40bd-a8ba-ee795503a0d9",
   "metadata": {},
   "outputs": [],
   "source": [
    "df_full_train = df_full_train.reset_index(drop=True)"
   ]
  },
  {
   "cell_type": "code",
   "execution_count": null,
   "id": "22183697-258d-4b30-a425-8f00df4c9a03",
   "metadata": {},
   "outputs": [],
   "source": [
    "y_full_train = df_full_train.attrition"
   ]
  },
  {
   "cell_type": "code",
   "execution_count": null,
   "id": "bed19780-2e1b-40e7-bb82-9ac07875e296",
   "metadata": {},
   "outputs": [],
   "source": [
    "del df_full_train['attrition']"
   ]
  },
  {
   "cell_type": "code",
   "execution_count": null,
   "id": "1b079474-00a2-4d27-8b5a-cdb7f08ba721",
   "metadata": {},
   "outputs": [],
   "source": [
    "dicts_full_train = df_full_train.to_dict(orient='records')\n",
    "\n",
    "dv = DictVectorizer(sparse=False)\n",
    "X_full_train = dv.fit_transform(dicts_full_train)\n",
    "\n",
    "dicts_test = df_test.to_dict(orient='records')\n",
    "X_test = dv.transform(dicts_test)\n"
   ]
  },
  {
   "cell_type": "code",
   "execution_count": null,
   "id": "9dec854c-2ae1-4d3b-9afc-152e85f1bdf1",
   "metadata": {},
   "outputs": [],
   "source": [
    "feature_names"
   ]
  },
  {
   "cell_type": "code",
   "execution_count": null,
   "id": "414cb0ef-6f5d-4d75-9ddf-57def87f87a7",
   "metadata": {},
   "outputs": [],
   "source": [
    "# feature_names = dv.get_feature_names_out().tolist()\n",
    "\n",
    "dfulltrain = xgb.DMatrix(X_full_train, label=y_full_train, \n",
    "                        feature_names=dv.get_feature_names_out().tolist())\n",
    "\n",
    "dtest = xgb.DMatrix(X_test, feature_names=dv.get_feature_names_out().tolist())"
   ]
  },
  {
   "cell_type": "code",
   "execution_count": null,
   "id": "230e4152-1215-45d8-be1d-964423d6becd",
   "metadata": {},
   "outputs": [],
   "source": [
    "xgb_params = {\n",
    "    'eta': 0.3, \n",
    "    'max_depth': 6,\n",
    "    'min_child_weight': 1,\n",
    "\n",
    "    'objective': 'binary:logistic',\n",
    "    'nthread': 8,\n",
    "\n",
    "    'seed': 1,\n",
    "    'verbosity': 1,\n",
    "}\n",
    "model = xgb.train(xgb_params, dtrain, num_boost_round=10)"
   ]
  },
  {
   "cell_type": "code",
   "execution_count": null,
   "id": "56c1fdf7-50dc-4559-bd04-9e3e95637030",
   "metadata": {},
   "outputs": [],
   "source": [
    "y_pred = model.predict(dtest)"
   ]
  },
  {
   "cell_type": "code",
   "execution_count": null,
   "id": "ebee91a8-defc-413d-a78f-1c6b7a50502b",
   "metadata": {},
   "outputs": [],
   "source": [
    "y_pred[:10]"
   ]
  },
  {
   "cell_type": "code",
   "execution_count": null,
   "id": "a5e8c0b3-5821-4b7f-96b3-bd1c0422226f",
   "metadata": {},
   "outputs": [],
   "source": [
    "roc_auc_score(y_test, y_pred)"
   ]
  },
  {
   "cell_type": "markdown",
   "id": "47e671e1",
   "metadata": {},
   "source": [
    "## Full Retrain"
   ]
  },
  {
   "cell_type": "code",
   "execution_count": null,
   "id": "ffc1acb6-e815-41e1-861c-ebf2e4737374",
   "metadata": {},
   "outputs": [],
   "source": [
    "# Parameter constants\n",
    "C= 1.0\n",
    "n_splits = 5"
   ]
  },
  {
   "cell_type": "code",
   "execution_count": null,
   "id": "ad203b73-1109-48f5-adaa-99708a7e082e",
   "metadata": {},
   "outputs": [],
   "source": [
    "# Train function\n",
    "def train(df_train, y_train, C=C):\n",
    "    dicts = df_train[cat_cols + num_cols].to_dict(orient='records')\n",
    "\n",
    "    dv = DictVectorizer(sparce=False)\n",
    "    X_train = dv.fit_transform(dicts)\n",
    "\n",
    "    model = xgb.train(xgb_params, dtrain, num_boost_round=10)\n",
    "    return dv, model"
   ]
  },
  {
   "cell_type": "code",
   "execution_count": null,
   "id": "d569f391-564e-46c3-97ff-3c2a0d6b0b5e",
   "metadata": {},
   "outputs": [],
   "source": [
    "# Predict function\n",
    "\n",
    "def predict(df, dv, model):\n",
    "    dicts = df[cat_cols + num_cols].to_dict(orient='records')\n",
    "    \n",
    "    dtest = dv.transform(dicts)\n",
    "    y_pred = model.predict(dtest,validate_features=False)\n",
    "    return y_pred"
   ]
  },
  {
   "cell_type": "code",
   "execution_count": null,
   "id": "2f10c816-ce50-4081-b814-865faf73af12",
   "metadata": {},
   "outputs": [],
   "source": [
    "output_file = f'model_C={C}.bin'\n",
    "output_file"
   ]
  },
  {
   "cell_type": "code",
   "execution_count": null,
   "id": "ca5554c6",
   "metadata": {},
   "outputs": [],
   "source": [
    "with open(output_file, 'wb') as f_out:\n",
    "    pickle.dump((dv, model), f_out)\n",
    "\n"
   ]
  },
  {
   "cell_type": "raw",
   "id": "525ef6db-8f31-48b6-aa4e-134cb8553f98",
   "metadata": {},
   "source": [
    "Load the model\n",
    "\n",
    "Restart the kernel"
   ]
  },
  {
   "cell_type": "code",
   "execution_count": null,
   "id": "1d765988",
   "metadata": {},
   "outputs": [],
   "source": [
    "import pickle\n",
    "import xgboost as xgb\n",
    "from xgboost import XGBClassifier\n"
   ]
  },
  {
   "cell_type": "code",
   "execution_count": null,
   "id": "713d5065-7bd5-4c09-8116-4c15d4849177",
   "metadata": {},
   "outputs": [],
   "source": [
    "output_file = 'model_C=1.0.bin'\n",
    " \n",
    "output_file"
   ]
  },
  {
   "cell_type": "code",
   "execution_count": null,
   "id": "b1776d96-43a7-4e88-94a6-8fcb312b5257",
   "metadata": {},
   "outputs": [],
   "source": [
    "with open(output_file, 'rb') as f_in:\n",
    "    (dv, model) = pickle.load(f_in)\n",
    "\n"
   ]
  },
  {
   "cell_type": "code",
   "execution_count": null,
   "id": "62ca4f52-7420-4bdb-a56a-f6885e438ae6",
   "metadata": {},
   "outputs": [],
   "source": [
    "employee = {'businesstravel': 'travel_rarely',\n",
    " 'department': 'sales',\n",
    " 'educationfield': 'life_sciences',\n",
    " 'gender': 'female',\n",
    " 'jobrole': 'sales_executive',\n",
    " 'maritalstatus': 'single',\n",
    " 'over18': 'y',\n",
    " 'overtime': 'no',\n",
    " 'age': 45,\n",
    " 'dailyrate': 374,\n",
    " 'distancefromhome': 20,\n",
    " 'education': 3,\n",
    " 'employeecount': 1,\n",
    " 'employeenumber': 2046,\n",
    " 'environmentsatisfaction': 4,\n",
    " 'hourlyrate': 50,\n",
    " 'jobinvolvement': 3,\n",
    " 'joblevel': 2,\n",
    " 'jobsatisfaction': 3,\n",
    " 'monthlyincome': 4850,\n",
    " 'monthlyrate': 23333,\n",
    " 'numcompaniesworked': 8,\n",
    " 'percentsalaryhike': 15,\n",
    " 'performancerating': 3,\n",
    " 'relationshipsatisfaction': 3,\n",
    " 'standardhours': 80,\n",
    " 'stockoptionlevel': 0,\n",
    " 'totalworkingyears': 8,\n",
    " 'trainingtimeslastyear': 3,\n",
    " 'worklifebalance': 3,\n",
    " 'yearsatcompany': 5,\n",
    " 'yearsincurrentrole': 3,\n",
    " 'yearssincelastpromotion': 0,\n",
    " 'yearswithcurrmanager': 1,\n",
    "}"
   ]
  },
  {
   "cell_type": "code",
   "execution_count": null,
   "id": "cad6a956-7b34-4916-9d6e-58344123d906",
   "metadata": {},
   "outputs": [],
   "source": [
    "X = dv.transform([employee])"
   ]
  },
  {
   "cell_type": "code",
   "execution_count": null,
   "id": "052d33a1-196c-40f9-9adf-fa8f84d1d86b",
   "metadata": {},
   "outputs": [],
   "source": [
    "dtest = xgb.DMatrix(X, feature_names.feature_name)"
   ]
  },
  {
   "cell_type": "code",
   "execution_count": null,
   "id": "cea4013f-02a7-44c5-80b9-b7f1fef857b3",
   "metadata": {},
   "outputs": [],
   "source": [
    "# model.predict_proba(X)[0, 1]\n",
    "dtest = xgb.DMatrix(X, feature_names=model.feature_names)\n"
   ]
  },
  {
   "cell_type": "code",
   "execution_count": null,
   "id": "2f8b2664-56fc-461f-8fb0-fe7eb01530b4",
   "metadata": {},
   "outputs": [],
   "source": [
    "print(model.feature_names)  # From the trained model"
   ]
  },
  {
   "cell_type": "code",
   "execution_count": null,
   "id": "49c34631-8229-47fb-9d31-d655ba5fc957",
   "metadata": {},
   "outputs": [],
   "source": [
    "print(dtest.feature_names)  # From the test DMatrix"
   ]
  },
  {
   "cell_type": "code",
   "execution_count": null,
   "id": "7928b111-7903-46e0-9e06-176b459ac899",
   "metadata": {},
   "outputs": [],
   "source": [
    "\n",
    "# Assume `model` is a Booster\n",
    "dtest = xgb.DMatrix(X)  # Convert your test data to DMatrix\n",
    "y_pred = model.predict(dtest)  # Use `predict` directly"
   ]
  },
  {
   "cell_type": "code",
   "execution_count": null,
   "id": "4c95d0b7-2ffa-4a6b-8c7c-a0042b539221",
   "metadata": {},
   "outputs": [],
   "source": []
  }
 ],
 "metadata": {
  "kernelspec": {
   "display_name": "Python 3 (ipykernel)",
   "language": "python",
   "name": "python3"
  },
  "language_info": {
   "codemirror_mode": {
    "name": "ipython",
    "version": 3
   },
   "file_extension": ".py",
   "mimetype": "text/x-python",
   "name": "python",
   "nbconvert_exporter": "python",
   "pygments_lexer": "ipython3",
   "version": "3.11.7"
  }
 },
 "nbformat": 4,
 "nbformat_minor": 5
}
